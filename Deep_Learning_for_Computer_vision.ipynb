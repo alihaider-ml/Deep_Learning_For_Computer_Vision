{
  "nbformat": 4,
  "nbformat_minor": 0,
  "metadata": {
    "colab": {
      "provenance": [],
      "authorship_tag": "ABX9TyPqNVwxAqiNKasThanxZPPs",
      "include_colab_link": true
    },
    "kernelspec": {
      "name": "python3",
      "display_name": "Python 3"
    },
    "language_info": {
      "name": "python"
    }
  },
  "cells": [
    {
      "cell_type": "markdown",
      "metadata": {
        "id": "view-in-github",
        "colab_type": "text"
      },
      "source": [
        "<a href=\"https://colab.research.google.com/github/alihaider-ml/Deep_Learning_For_Computer_Vision/blob/main/Deep_Learning_for_Computer_vision.ipynb\" target=\"_parent\"><img src=\"https://colab.research.google.com/assets/colab-badge.svg\" alt=\"Open In Colab\"/></a>"
      ]
    },
    {
      "cell_type": "markdown",
      "source": [
        "# Basics of Tensors\n"
      ],
      "metadata": {
        "id": "KiM6lM31AVIW"
      }
    },
    {
      "cell_type": "markdown",
      "source": [
        "## Initialization"
      ],
      "metadata": {
        "id": "AeOcN_paAarj"
      }
    },
    {
      "cell_type": "code",
      "execution_count": 1,
      "metadata": {
        "id": "XGGuPBqm7h_3"
      },
      "outputs": [],
      "source": [
        "import tensorflow as tf"
      ]
    },
    {
      "cell_type": "code",
      "source": [
        "# constant is a method used for creating tensors\n",
        "#zero dimensional tensor\n",
        "tensor_zero_d = tf.constant(5)\n",
        "print(tensor_zero_d)"
      ],
      "metadata": {
        "colab": {
          "base_uri": "https://localhost:8080/"
        },
        "id": "UFDR_dyCAeOG",
        "outputId": "83f07004-34cb-4698-a46a-e25b4253e3c8"
      },
      "execution_count": 2,
      "outputs": [
        {
          "output_type": "stream",
          "name": "stdout",
          "text": [
            "tf.Tensor(5, shape=(), dtype=int32)\n"
          ]
        }
      ]
    },
    {
      "cell_type": "code",
      "source": [
        "#one dimesional tenosr\n",
        "tensor_one_d = tf.constant([1,2,3,-4])\n",
        "print(tensor_one_d)"
      ],
      "metadata": {
        "colab": {
          "base_uri": "https://localhost:8080/"
        },
        "id": "wFb0WLTkA_Ju",
        "outputId": "edb9d0c8-0ffd-4c80-b838-5566fe62873c"
      },
      "execution_count": 4,
      "outputs": [
        {
          "output_type": "stream",
          "name": "stdout",
          "text": [
            "tf.Tensor([ 1  2  3 -4], shape=(4,), dtype=int32)\n"
          ]
        }
      ]
    },
    {
      "cell_type": "code",
      "source": [
        "#two dimensional tensor\n",
        "tensor_two_d = tf.constant([[1,2,3],[4,5,6]])\n",
        "print(tensor_two_d)"
      ],
      "metadata": {
        "colab": {
          "base_uri": "https://localhost:8080/"
        },
        "id": "ir4iVdffBWQb",
        "outputId": "a499e021-4d74-4627-85a8-ba46d933f655"
      },
      "execution_count": 5,
      "outputs": [
        {
          "output_type": "stream",
          "name": "stdout",
          "text": [
            "tf.Tensor(\n",
            "[[1 2 3]\n",
            " [4 5 6]], shape=(2, 3), dtype=int32)\n"
          ]
        }
      ]
    },
    {
      "cell_type": "code",
      "source": [
        "#three dimesional tensor\n",
        "tensor_three_d = tf.constant([[[1,2,3],\n",
        "                                [4,5,6],\n",
        "                                [6,7,8]]])\n",
        "print(tensor_three_d)"
      ],
      "metadata": {
        "colab": {
          "base_uri": "https://localhost:8080/"
        },
        "id": "QrAbEp77BxmR",
        "outputId": "a6372e66-c3d3-4cd1-8d8c-f8762daeb2d8"
      },
      "execution_count": 6,
      "outputs": [
        {
          "output_type": "stream",
          "name": "stdout",
          "text": [
            "tf.Tensor(\n",
            "[[[1 2 3]\n",
            "  [4 5 6]\n",
            "  [6 7 8]]], shape=(1, 3, 3), dtype=int32)\n"
          ]
        }
      ]
    },
    {
      "cell_type": "code",
      "source": [
        "#three dimesional tensor\n",
        "tensor_three_d = tf.constant([[[1,2,3],\n",
        "                                [4,5,6],\n",
        "                                 [6,7,8]],\n",
        "                              [[4,5,6],\n",
        "                               [6,7,8],\n",
        "                               [4,9,0]]])\n",
        "print(tensor_three_d)"
      ],
      "metadata": {
        "colab": {
          "base_uri": "https://localhost:8080/"
        },
        "id": "YisjMsOjB-4p",
        "outputId": "fafe0b38-a7fe-4b39-a884-4044e328a85e"
      },
      "execution_count": 9,
      "outputs": [
        {
          "output_type": "stream",
          "name": "stdout",
          "text": [
            "tf.Tensor(\n",
            "[[[1 2 3]\n",
            "  [4 5 6]\n",
            "  [6 7 8]]\n",
            "\n",
            " [[4 5 6]\n",
            "  [6 7 8]\n",
            "  [4 9 0]]], shape=(2, 3, 3), dtype=int32)\n"
          ]
        }
      ]
    },
    {
      "cell_type": "code",
      "source": [
        "#four dimensional tensor\n",
        "tensor_four_d = tf.constant([[[[1,2,3],\n",
        "                               [4,5,6]],\n",
        "\n",
        "                              [[8,9,0],\n",
        "                              [2,5,7]]],\n",
        "\n",
        "\n",
        "                             [[[6,7,8],\n",
        "                             [6,3,4]],\n",
        "\n",
        "                              [[1,2,3],\n",
        "                               [4,5,6]]]])\n",
        "\n",
        "\n",
        "print(tensor_four_d)\n",
        "tensor_four_d.ndim"
      ],
      "metadata": {
        "colab": {
          "base_uri": "https://localhost:8080/"
        },
        "id": "zvH4cj5mCKD5",
        "outputId": "7fecbb92-ba22-4af3-d65c-fd0b346c61f4"
      },
      "execution_count": 12,
      "outputs": [
        {
          "output_type": "stream",
          "name": "stdout",
          "text": [
            "tf.Tensor(\n",
            "[[[[1 2 3]\n",
            "   [4 5 6]]\n",
            "\n",
            "  [[8 9 0]\n",
            "   [2 5 7]]]\n",
            "\n",
            "\n",
            " [[[6 7 8]\n",
            "   [6 3 4]]\n",
            "\n",
            "  [[1 2 3]\n",
            "   [4 5 6]]]], shape=(2, 2, 2, 3), dtype=int32)\n"
          ]
        },
        {
          "output_type": "execute_result",
          "data": {
            "text/plain": [
              "4"
            ]
          },
          "metadata": {},
          "execution_count": 12
        }
      ]
    },
    {
      "cell_type": "markdown",
      "source": [
        "## Type Casting of Tensors"
      ],
      "metadata": {
        "id": "gpFNsUpKH7BQ"
      }
    },
    {
      "cell_type": "code",
      "source": [
        "#from float to integer\n",
        "tensor_1d = tf.constant([1,2,3.,4], dtype=tf.float16)\n",
        "casted_1d = tf.cast(tensor_1d,dtype = tf.int16)\n",
        "print(tensor_1d)\n",
        "print(casted_1d)"
      ],
      "metadata": {
        "colab": {
          "base_uri": "https://localhost:8080/"
        },
        "id": "JJG7AOQtF-hQ",
        "outputId": "e257416b-fd60-4a8f-d2c6-315da9ea4baf"
      },
      "execution_count": 13,
      "outputs": [
        {
          "output_type": "stream",
          "name": "stdout",
          "text": [
            "tf.Tensor([1. 2. 3. 4.], shape=(4,), dtype=float16)\n",
            "tf.Tensor([1 2 3 4], shape=(4,), dtype=int16)\n"
          ]
        }
      ]
    },
    {
      "cell_type": "code",
      "source": [
        "#from integer to float\n",
        "tensor_2d = tf.constant([[1,2,3],[45,6,6]],dtype=tf.int16)\n",
        "casted_2d = tf.cast(tensor_2d,tf.float16)\n",
        "print(tensor_2d)\n",
        "print(casted_2d)"
      ],
      "metadata": {
        "colab": {
          "base_uri": "https://localhost:8080/"
        },
        "id": "a2Yqf4QDIeeu",
        "outputId": "3c59fd5d-be81-42dd-ad01-1571ff0b658d"
      },
      "execution_count": 14,
      "outputs": [
        {
          "output_type": "stream",
          "name": "stdout",
          "text": [
            "tf.Tensor(\n",
            "[[ 1  2  3]\n",
            " [45  6  6]], shape=(2, 3), dtype=int16)\n",
            "tf.Tensor(\n",
            "[[ 1.  2.  3.]\n",
            " [45.  6.  6.]], shape=(2, 3), dtype=float16)\n"
          ]
        }
      ]
    },
    {
      "cell_type": "code",
      "source": [
        "# Note : we can also convert boolean to integers and integers to boolean 0 = false, any other number equal to true wheather negative or positive"
      ],
      "metadata": {
        "id": "2Y2c-7VxI7N-"
      },
      "execution_count": null,
      "outputs": []
    },
    {
      "cell_type": "markdown",
      "source": [
        "## Converting numpy array to tensors"
      ],
      "metadata": {
        "id": "WHjlly14Kfvl"
      }
    },
    {
      "cell_type": "code",
      "source": [
        "import numpy as np"
      ],
      "metadata": {
        "id": "ckFIsgSLKj9r"
      },
      "execution_count": 15,
      "outputs": []
    },
    {
      "cell_type": "code",
      "source": [
        "np_array_1d = np.array([1,2,3,4])\n",
        "converted_1d = tf.convert_to_tensor(np_array_1d)\n",
        "print(np_array_1d)\n",
        "print(converted_1d)"
      ],
      "metadata": {
        "colab": {
          "base_uri": "https://localhost:8080/"
        },
        "id": "VHOtiVbiKmNo",
        "outputId": "906aa645-3b31-41c8-ac19-de2cc102ade6"
      },
      "execution_count": 16,
      "outputs": [
        {
          "output_type": "stream",
          "name": "stdout",
          "text": [
            "[1 2 3 4]\n",
            "tf.Tensor([1 2 3 4], shape=(4,), dtype=int64)\n"
          ]
        }
      ]
    },
    {
      "cell_type": "markdown",
      "source": [
        "## Methods in Tensorflow"
      ],
      "metadata": {
        "id": "xxjgcWoQMOoO"
      }
    },
    {
      "cell_type": "code",
      "source": [
        "# Eye method : it is used to create identity matrix of needed shape\n",
        "''' it's general syntax is like\n",
        "    eye_tensor = tf.eye(\n",
        "      num_of_row,\n",
        "      num_of_columns,\n",
        "      batch_shape, --> it defines the shape of the required identity matrix that how many matrices you want\n",
        "      dtype,\n",
        "      name\n",
        "    ])\n",
        "    '''\n",
        "\n",
        "eye_tensor = tf.eye(\n",
        "    num_rows=3,\n",
        "    num_columns=None,\n",
        "    batch_shape=[2,],\n",
        "    dtype=tf.dtypes.float32,\n",
        "    name=None\n",
        ")\n",
        "print(eye_tensor)\n"
      ],
      "metadata": {
        "colab": {
          "base_uri": "https://localhost:8080/"
        },
        "id": "JcfexK0aK3op",
        "outputId": "1d58b87e-a166-4d94-b01a-05d6c14174a9"
      },
      "execution_count": 19,
      "outputs": [
        {
          "output_type": "stream",
          "name": "stdout",
          "text": [
            "tf.Tensor(\n",
            "[[[1. 0. 0.]\n",
            "  [0. 1. 0.]\n",
            "  [0. 0. 1.]]\n",
            "\n",
            " [[1. 0. 0.]\n",
            "  [0. 1. 0.]\n",
            "  [0. 0. 1.]]], shape=(2, 3, 3), dtype=float32)\n"
          ]
        }
      ]
    },
    {
      "cell_type": "code",
      "source": [
        "# eye tensor example\n",
        "eye_tensor_2 = tf.eye(\n",
        "          num_rows=4,\n",
        "          num_columns=4,\n",
        "          batch_shape=[4,3], #four dimension inside which three three matrix\n",
        "          dtype=tf.dtypes.float16,\n",
        "          name='Ali'\n",
        ")\n",
        "print(eye_tensor_2)"
      ],
      "metadata": {
        "colab": {
          "base_uri": "https://localhost:8080/"
        },
        "id": "JrEgJx9vMpZx",
        "outputId": "9961d020-bb32-4f66-c300-8938e3ef6c6e"
      },
      "execution_count": 30,
      "outputs": [
        {
          "output_type": "stream",
          "name": "stdout",
          "text": [
            "tf.Tensor(\n",
            "[[[[1. 0. 0. 0.]\n",
            "   [0. 1. 0. 0.]\n",
            "   [0. 0. 1. 0.]\n",
            "   [0. 0. 0. 1.]]\n",
            "\n",
            "  [[1. 0. 0. 0.]\n",
            "   [0. 1. 0. 0.]\n",
            "   [0. 0. 1. 0.]\n",
            "   [0. 0. 0. 1.]]\n",
            "\n",
            "  [[1. 0. 0. 0.]\n",
            "   [0. 1. 0. 0.]\n",
            "   [0. 0. 1. 0.]\n",
            "   [0. 0. 0. 1.]]]\n",
            "\n",
            "\n",
            " [[[1. 0. 0. 0.]\n",
            "   [0. 1. 0. 0.]\n",
            "   [0. 0. 1. 0.]\n",
            "   [0. 0. 0. 1.]]\n",
            "\n",
            "  [[1. 0. 0. 0.]\n",
            "   [0. 1. 0. 0.]\n",
            "   [0. 0. 1. 0.]\n",
            "   [0. 0. 0. 1.]]\n",
            "\n",
            "  [[1. 0. 0. 0.]\n",
            "   [0. 1. 0. 0.]\n",
            "   [0. 0. 1. 0.]\n",
            "   [0. 0. 0. 1.]]]\n",
            "\n",
            "\n",
            " [[[1. 0. 0. 0.]\n",
            "   [0. 1. 0. 0.]\n",
            "   [0. 0. 1. 0.]\n",
            "   [0. 0. 0. 1.]]\n",
            "\n",
            "  [[1. 0. 0. 0.]\n",
            "   [0. 1. 0. 0.]\n",
            "   [0. 0. 1. 0.]\n",
            "   [0. 0. 0. 1.]]\n",
            "\n",
            "  [[1. 0. 0. 0.]\n",
            "   [0. 1. 0. 0.]\n",
            "   [0. 0. 1. 0.]\n",
            "   [0. 0. 0. 1.]]]\n",
            "\n",
            "\n",
            " [[[1. 0. 0. 0.]\n",
            "   [0. 1. 0. 0.]\n",
            "   [0. 0. 1. 0.]\n",
            "   [0. 0. 0. 1.]]\n",
            "\n",
            "  [[1. 0. 0. 0.]\n",
            "   [0. 1. 0. 0.]\n",
            "   [0. 0. 1. 0.]\n",
            "   [0. 0. 0. 1.]]\n",
            "\n",
            "  [[1. 0. 0. 0.]\n",
            "   [0. 1. 0. 0.]\n",
            "   [0. 0. 1. 0.]\n",
            "   [0. 0. 0. 1.]]]], shape=(4, 3, 4, 4), dtype=float16)\n"
          ]
        }
      ]
    },
    {
      "cell_type": "code",
      "source": [
        "# Fill method  : it creates a tensor filled with a scaler values\n",
        "''' its general syntax is:\n",
        "  tf.fill(\n",
        "    dims,value,name\n",
        "    ) '''\n",
        "\n",
        "fill_tensor = tf.fill(\n",
        "    [2,3],9,name='Ali'\n",
        ")\n",
        "print(fill_tensor)\n",
        "float_fill_tensor = tf.cast(fill_tensor,dtype=tf.float16)\n",
        "print(float_fill_tensor)\n"
      ],
      "metadata": {
        "colab": {
          "base_uri": "https://localhost:8080/"
        },
        "id": "rUyVqxaQN29w",
        "outputId": "c226685b-c7e7-4baa-8435-3bc950730e7b"
      },
      "execution_count": 38,
      "outputs": [
        {
          "output_type": "stream",
          "name": "stdout",
          "text": [
            "tf.Tensor(\n",
            "[[9 9 9]\n",
            " [9 9 9]], shape=(2, 3), dtype=int32)\n",
            "tf.Tensor(\n",
            "[[9. 9. 9.]\n",
            " [9. 9. 9.]], shape=(2, 3), dtype=float16)\n"
          ]
        }
      ]
    },
    {
      "cell_type": "code",
      "source": [],
      "metadata": {
        "id": "gEiwFDeRQxi-"
      },
      "execution_count": null,
      "outputs": []
    }
  ]
}