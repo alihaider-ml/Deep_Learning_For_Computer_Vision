{
  "nbformat": 4,
  "nbformat_minor": 0,
  "metadata": {
    "colab": {
      "provenance": [],
      "gpuType": "T4",
      "collapsed_sections": [
        "AeOcN_paAarj",
        "gpFNsUpKH7BQ",
        "WHjlly14Kfvl",
        "xxjgcWoQMOoO",
        "I9ot7qvEnQDx",
        "r5db-4vUiCAz"
      ],
      "authorship_tag": "ABX9TyPEjzslSHyyn0Fzsx7lILDw",
      "include_colab_link": true
    },
    "kernelspec": {
      "name": "python3",
      "display_name": "Python 3"
    },
    "language_info": {
      "name": "python"
    },
    "accelerator": "GPU"
  },
  "cells": [
    {
      "cell_type": "markdown",
      "metadata": {
        "id": "view-in-github",
        "colab_type": "text"
      },
      "source": [
        "<a href=\"https://colab.research.google.com/github/alihaider-ml/Deep_Learning_For_Computer_Vision/blob/main/Deep_Learning_for_Computer_vision.ipynb\" target=\"_parent\"><img src=\"https://colab.research.google.com/assets/colab-badge.svg\" alt=\"Open In Colab\"/></a>"
      ]
    },
    {
      "cell_type": "markdown",
      "source": [
        "# Basics of Tensors\n"
      ],
      "metadata": {
        "id": "KiM6lM31AVIW"
      }
    },
    {
      "cell_type": "markdown",
      "source": [
        "## Initialization"
      ],
      "metadata": {
        "id": "AeOcN_paAarj"
      }
    },
    {
      "cell_type": "code",
      "execution_count": 3,
      "metadata": {
        "id": "XGGuPBqm7h_3"
      },
      "outputs": [],
      "source": [
        "import tensorflow as tf"
      ]
    },
    {
      "cell_type": "code",
      "source": [
        "# constant is a method used for creating tensors\n",
        "#zero dimensional tensor\n",
        "tensor_zero_d = tf.constant(5)\n",
        "print(tensor_zero_d)"
      ],
      "metadata": {
        "colab": {
          "base_uri": "https://localhost:8080/"
        },
        "id": "UFDR_dyCAeOG",
        "outputId": "83f07004-34cb-4698-a46a-e25b4253e3c8"
      },
      "execution_count": null,
      "outputs": [
        {
          "output_type": "stream",
          "name": "stdout",
          "text": [
            "tf.Tensor(5, shape=(), dtype=int32)\n"
          ]
        }
      ]
    },
    {
      "cell_type": "code",
      "source": [
        "#one dimesional tenosr\n",
        "tensor_one_d = tf.constant([1,2,3,-4])\n",
        "print(tensor_one_d)"
      ],
      "metadata": {
        "colab": {
          "base_uri": "https://localhost:8080/"
        },
        "id": "wFb0WLTkA_Ju",
        "outputId": "edb9d0c8-0ffd-4c80-b838-5566fe62873c"
      },
      "execution_count": null,
      "outputs": [
        {
          "output_type": "stream",
          "name": "stdout",
          "text": [
            "tf.Tensor([ 1  2  3 -4], shape=(4,), dtype=int32)\n"
          ]
        }
      ]
    },
    {
      "cell_type": "code",
      "source": [
        "#two dimensional tensor\n",
        "tensor_two_d = tf.constant([[1,2,3],[4,5,6]])\n",
        "print(tensor_two_d)"
      ],
      "metadata": {
        "colab": {
          "base_uri": "https://localhost:8080/"
        },
        "id": "ir4iVdffBWQb",
        "outputId": "a499e021-4d74-4627-85a8-ba46d933f655"
      },
      "execution_count": null,
      "outputs": [
        {
          "output_type": "stream",
          "name": "stdout",
          "text": [
            "tf.Tensor(\n",
            "[[1 2 3]\n",
            " [4 5 6]], shape=(2, 3), dtype=int32)\n"
          ]
        }
      ]
    },
    {
      "cell_type": "code",
      "source": [
        "#three dimesional tensor\n",
        "tensor_three_d = tf.constant([[[1,2,3],\n",
        "                                [4,5,6],\n",
        "                                [6,7,8]]])\n",
        "print(tensor_three_d)"
      ],
      "metadata": {
        "colab": {
          "base_uri": "https://localhost:8080/"
        },
        "id": "QrAbEp77BxmR",
        "outputId": "a6372e66-c3d3-4cd1-8d8c-f8762daeb2d8"
      },
      "execution_count": null,
      "outputs": [
        {
          "output_type": "stream",
          "name": "stdout",
          "text": [
            "tf.Tensor(\n",
            "[[[1 2 3]\n",
            "  [4 5 6]\n",
            "  [6 7 8]]], shape=(1, 3, 3), dtype=int32)\n"
          ]
        }
      ]
    },
    {
      "cell_type": "code",
      "source": [
        "#three dimesional tensor\n",
        "tensor_three_d = tf.constant([[[1,2,3],\n",
        "                                [4,5,6],\n",
        "                                 [6,7,8]],\n",
        "                              [[4,5,6],\n",
        "                               [6,7,8],\n",
        "                               [4,9,0]]])\n",
        "print(tensor_three_d)"
      ],
      "metadata": {
        "colab": {
          "base_uri": "https://localhost:8080/"
        },
        "id": "YisjMsOjB-4p",
        "outputId": "fafe0b38-a7fe-4b39-a884-4044e328a85e"
      },
      "execution_count": null,
      "outputs": [
        {
          "output_type": "stream",
          "name": "stdout",
          "text": [
            "tf.Tensor(\n",
            "[[[1 2 3]\n",
            "  [4 5 6]\n",
            "  [6 7 8]]\n",
            "\n",
            " [[4 5 6]\n",
            "  [6 7 8]\n",
            "  [4 9 0]]], shape=(2, 3, 3), dtype=int32)\n"
          ]
        }
      ]
    },
    {
      "cell_type": "code",
      "source": [
        "#four dimensional tensor\n",
        "tensor_four_d = tf.constant([[[[1,2,3],\n",
        "                               [4,5,6]],\n",
        "\n",
        "                              [[8,9,0],\n",
        "                              [2,5,7]]],\n",
        "\n",
        "\n",
        "                             [[[6,7,8],\n",
        "                             [6,3,4]],\n",
        "\n",
        "                              [[1,2,3],\n",
        "                               [4,5,6]]]])\n",
        "\n",
        "\n",
        "print(tensor_four_d)\n",
        "tensor_four_d.ndim"
      ],
      "metadata": {
        "colab": {
          "base_uri": "https://localhost:8080/"
        },
        "id": "zvH4cj5mCKD5",
        "outputId": "7fecbb92-ba22-4af3-d65c-fd0b346c61f4"
      },
      "execution_count": null,
      "outputs": [
        {
          "output_type": "stream",
          "name": "stdout",
          "text": [
            "tf.Tensor(\n",
            "[[[[1 2 3]\n",
            "   [4 5 6]]\n",
            "\n",
            "  [[8 9 0]\n",
            "   [2 5 7]]]\n",
            "\n",
            "\n",
            " [[[6 7 8]\n",
            "   [6 3 4]]\n",
            "\n",
            "  [[1 2 3]\n",
            "   [4 5 6]]]], shape=(2, 2, 2, 3), dtype=int32)\n"
          ]
        },
        {
          "output_type": "execute_result",
          "data": {
            "text/plain": [
              "4"
            ]
          },
          "metadata": {},
          "execution_count": 12
        }
      ]
    },
    {
      "cell_type": "markdown",
      "source": [
        "## Type Casting of Tensors"
      ],
      "metadata": {
        "id": "gpFNsUpKH7BQ"
      }
    },
    {
      "cell_type": "code",
      "source": [
        "#from float to integer\n",
        "tensor_1d = tf.constant([1,2,3.,4], dtype=tf.float16)\n",
        "casted_1d = tf.cast(tensor_1d,dtype = tf.int16)\n",
        "print(tensor_1d)\n",
        "print(casted_1d)"
      ],
      "metadata": {
        "colab": {
          "base_uri": "https://localhost:8080/"
        },
        "id": "JJG7AOQtF-hQ",
        "outputId": "e257416b-fd60-4a8f-d2c6-315da9ea4baf"
      },
      "execution_count": null,
      "outputs": [
        {
          "output_type": "stream",
          "name": "stdout",
          "text": [
            "tf.Tensor([1. 2. 3. 4.], shape=(4,), dtype=float16)\n",
            "tf.Tensor([1 2 3 4], shape=(4,), dtype=int16)\n"
          ]
        }
      ]
    },
    {
      "cell_type": "code",
      "source": [
        "#from integer to float\n",
        "tensor_2d = tf.constant([[1,2,3],[45,6,6]],dtype=tf.int16)\n",
        "casted_2d = tf.cast(tensor_2d,tf.float16)\n",
        "print(tensor_2d)\n",
        "print(casted_2d)"
      ],
      "metadata": {
        "colab": {
          "base_uri": "https://localhost:8080/"
        },
        "id": "a2Yqf4QDIeeu",
        "outputId": "3c59fd5d-be81-42dd-ad01-1571ff0b658d"
      },
      "execution_count": null,
      "outputs": [
        {
          "output_type": "stream",
          "name": "stdout",
          "text": [
            "tf.Tensor(\n",
            "[[ 1  2  3]\n",
            " [45  6  6]], shape=(2, 3), dtype=int16)\n",
            "tf.Tensor(\n",
            "[[ 1.  2.  3.]\n",
            " [45.  6.  6.]], shape=(2, 3), dtype=float16)\n"
          ]
        }
      ]
    },
    {
      "cell_type": "code",
      "source": [
        "# Note : we can also convert boolean to integers and integers to boolean 0 = false, any other number equal to true wheather negative or positive"
      ],
      "metadata": {
        "id": "2Y2c-7VxI7N-"
      },
      "execution_count": null,
      "outputs": []
    },
    {
      "cell_type": "markdown",
      "source": [
        "## Converting numpy array to tensors"
      ],
      "metadata": {
        "id": "WHjlly14Kfvl"
      }
    },
    {
      "cell_type": "code",
      "source": [
        "import numpy as np"
      ],
      "metadata": {
        "id": "ckFIsgSLKj9r"
      },
      "execution_count": null,
      "outputs": []
    },
    {
      "cell_type": "code",
      "source": [
        "np_array_1d = np.array([1,2,3,4])\n",
        "converted_1d = tf.convert_to_tensor(np_array_1d)\n",
        "print(np_array_1d)\n",
        "print(converted_1d)"
      ],
      "metadata": {
        "colab": {
          "base_uri": "https://localhost:8080/"
        },
        "id": "VHOtiVbiKmNo",
        "outputId": "906aa645-3b31-41c8-ac19-de2cc102ade6"
      },
      "execution_count": null,
      "outputs": [
        {
          "output_type": "stream",
          "name": "stdout",
          "text": [
            "[1 2 3 4]\n",
            "tf.Tensor([1 2 3 4], shape=(4,), dtype=int64)\n"
          ]
        }
      ]
    },
    {
      "cell_type": "markdown",
      "source": [
        "## Methods in Tensorflow"
      ],
      "metadata": {
        "id": "xxjgcWoQMOoO"
      }
    },
    {
      "cell_type": "code",
      "source": [
        "# Eye method : it is used to create identity matrix of needed shape\n",
        "''' it's general syntax is like\n",
        "    eye_tensor = tf.eye(\n",
        "      num_of_row,\n",
        "      num_of_columns,\n",
        "      batch_shape, --> it defines the shape of the required identity matrix that how many matrices you want\n",
        "      dtype,\n",
        "      name\n",
        "    ])\n",
        "    '''\n",
        "\n",
        "eye_tensor = tf.eye(\n",
        "    num_rows=3,\n",
        "    num_columns=None,\n",
        "    batch_shape=[2,],\n",
        "    dtype=tf.dtypes.float32,\n",
        "    name=None\n",
        ")\n",
        "print(eye_tensor)\n"
      ],
      "metadata": {
        "colab": {
          "base_uri": "https://localhost:8080/"
        },
        "id": "JcfexK0aK3op",
        "outputId": "1d58b87e-a166-4d94-b01a-05d6c14174a9"
      },
      "execution_count": null,
      "outputs": [
        {
          "output_type": "stream",
          "name": "stdout",
          "text": [
            "tf.Tensor(\n",
            "[[[1. 0. 0.]\n",
            "  [0. 1. 0.]\n",
            "  [0. 0. 1.]]\n",
            "\n",
            " [[1. 0. 0.]\n",
            "  [0. 1. 0.]\n",
            "  [0. 0. 1.]]], shape=(2, 3, 3), dtype=float32)\n"
          ]
        }
      ]
    },
    {
      "cell_type": "code",
      "source": [
        "# eye tensor example\n",
        "eye_tensor_2 = tf.eye(\n",
        "          num_rows=4,\n",
        "          num_columns=4,\n",
        "          batch_shape=[4,3], #four dimension inside which three three matrix\n",
        "          dtype=tf.dtypes.float16,\n",
        "          name='Ali'\n",
        ")\n",
        "print(eye_tensor_2)"
      ],
      "metadata": {
        "colab": {
          "base_uri": "https://localhost:8080/"
        },
        "id": "JrEgJx9vMpZx",
        "outputId": "9961d020-bb32-4f66-c300-8938e3ef6c6e"
      },
      "execution_count": null,
      "outputs": [
        {
          "output_type": "stream",
          "name": "stdout",
          "text": [
            "tf.Tensor(\n",
            "[[[[1. 0. 0. 0.]\n",
            "   [0. 1. 0. 0.]\n",
            "   [0. 0. 1. 0.]\n",
            "   [0. 0. 0. 1.]]\n",
            "\n",
            "  [[1. 0. 0. 0.]\n",
            "   [0. 1. 0. 0.]\n",
            "   [0. 0. 1. 0.]\n",
            "   [0. 0. 0. 1.]]\n",
            "\n",
            "  [[1. 0. 0. 0.]\n",
            "   [0. 1. 0. 0.]\n",
            "   [0. 0. 1. 0.]\n",
            "   [0. 0. 0. 1.]]]\n",
            "\n",
            "\n",
            " [[[1. 0. 0. 0.]\n",
            "   [0. 1. 0. 0.]\n",
            "   [0. 0. 1. 0.]\n",
            "   [0. 0. 0. 1.]]\n",
            "\n",
            "  [[1. 0. 0. 0.]\n",
            "   [0. 1. 0. 0.]\n",
            "   [0. 0. 1. 0.]\n",
            "   [0. 0. 0. 1.]]\n",
            "\n",
            "  [[1. 0. 0. 0.]\n",
            "   [0. 1. 0. 0.]\n",
            "   [0. 0. 1. 0.]\n",
            "   [0. 0. 0. 1.]]]\n",
            "\n",
            "\n",
            " [[[1. 0. 0. 0.]\n",
            "   [0. 1. 0. 0.]\n",
            "   [0. 0. 1. 0.]\n",
            "   [0. 0. 0. 1.]]\n",
            "\n",
            "  [[1. 0. 0. 0.]\n",
            "   [0. 1. 0. 0.]\n",
            "   [0. 0. 1. 0.]\n",
            "   [0. 0. 0. 1.]]\n",
            "\n",
            "  [[1. 0. 0. 0.]\n",
            "   [0. 1. 0. 0.]\n",
            "   [0. 0. 1. 0.]\n",
            "   [0. 0. 0. 1.]]]\n",
            "\n",
            "\n",
            " [[[1. 0. 0. 0.]\n",
            "   [0. 1. 0. 0.]\n",
            "   [0. 0. 1. 0.]\n",
            "   [0. 0. 0. 1.]]\n",
            "\n",
            "  [[1. 0. 0. 0.]\n",
            "   [0. 1. 0. 0.]\n",
            "   [0. 0. 1. 0.]\n",
            "   [0. 0. 0. 1.]]\n",
            "\n",
            "  [[1. 0. 0. 0.]\n",
            "   [0. 1. 0. 0.]\n",
            "   [0. 0. 1. 0.]\n",
            "   [0. 0. 0. 1.]]]], shape=(4, 3, 4, 4), dtype=float16)\n"
          ]
        }
      ]
    },
    {
      "cell_type": "code",
      "source": [
        "# Fill method  : it creates a tensor filled with a scaler values\n",
        "''' its general syntax is:\n",
        "  tf.fill(\n",
        "    dims,value,name\n",
        "    ) '''\n",
        "\n",
        "fill_tensor = tf.fill(\n",
        "    [2,3],\n",
        "    9,\n",
        "    name='Ali'\n",
        ")\n",
        "print(fill_tensor)\n",
        "float_fill_tensor = tf.cast(fill_tensor,dtype=tf.float16)\n",
        "print(float_fill_tensor)\n"
      ],
      "metadata": {
        "colab": {
          "base_uri": "https://localhost:8080/"
        },
        "id": "rUyVqxaQN29w",
        "outputId": "c226685b-c7e7-4baa-8435-3bc950730e7b"
      },
      "execution_count": null,
      "outputs": [
        {
          "output_type": "stream",
          "name": "stdout",
          "text": [
            "tf.Tensor(\n",
            "[[9 9 9]\n",
            " [9 9 9]], shape=(2, 3), dtype=int32)\n",
            "tf.Tensor(\n",
            "[[9. 9. 9.]\n",
            " [9. 9. 9.]], shape=(2, 3), dtype=float16)\n"
          ]
        }
      ]
    },
    {
      "cell_type": "code",
      "source": [
        "# Ones method : creates a tensor with all elements set to one\n",
        "''' its general syntax is\n",
        "    tf.ones (\n",
        "      shape,\n",
        "      dtype=tf.dtype.float32,\n",
        "      name=None\n",
        "    )\n",
        "'''\n",
        "ones_tensor = tf.ones(\n",
        "    [2,3],\n",
        "    dtype=tf.dtypes.float32,\n",
        "      name=None\n",
        "    )\n",
        "print(ones_tensor)"
      ],
      "metadata": {
        "id": "gEiwFDeRQxi-",
        "colab": {
          "base_uri": "https://localhost:8080/"
        },
        "outputId": "9b19d05a-7568-4d86-bf7e-73d0f3cc8c76"
      },
      "execution_count": null,
      "outputs": [
        {
          "output_type": "stream",
          "name": "stdout",
          "text": [
            "tf.Tensor(\n",
            "[[1. 1. 1.]\n",
            " [1. 1. 1.]], shape=(2, 3), dtype=float32)\n"
          ]
        }
      ]
    },
    {
      "cell_type": "code",
      "source": [
        "# ones like : creates a tensor of all ones that has the same shape as inputs\n",
        "''' it's general syntax is\n",
        "    tf.ones_like(\n",
        "      input,\n",
        "      dtype=None,\n",
        "      name=None\n",
        "    )\n",
        "'''\n",
        "\n",
        "\n",
        "ones_like_tensor=tf.ones_like(\n",
        "    [[1,2,3],[4,5,6]],\n",
        "    dtype=tf.float32,\n",
        "    name=\"Ali\"\n",
        ")\n",
        "\n",
        "\n",
        "print(ones_like_tensor)"
      ],
      "metadata": {
        "colab": {
          "base_uri": "https://localhost:8080/"
        },
        "id": "6DMnOiqxOHTG",
        "outputId": "e3c06480-cd15-4890-b609-c4f1d37c7f2b"
      },
      "execution_count": null,
      "outputs": [
        {
          "output_type": "stream",
          "name": "stdout",
          "text": [
            "tf.Tensor(\n",
            "[[1. 1. 1.]\n",
            " [1. 1. 1.]], shape=(2, 3), dtype=float32)\n"
          ]
        }
      ]
    },
    {
      "cell_type": "code",
      "source": [
        "# zeros method : creates a tensor with all the elements set to zero\n",
        "''' it's general syntax is\n",
        "\n",
        "    tf.zeros(\n",
        "      shape,\n",
        "      dtype=none,\n",
        "      name=none\n",
        "    )\n",
        "  '''\n",
        "\n",
        "zeros_tensor = tf.zeros(\n",
        "      [3,4],\n",
        "      dtype=tf.float32,\n",
        "      name='Ali'\n",
        ")\n",
        "\n",
        "print(zeros_tensor)"
      ],
      "metadata": {
        "colab": {
          "base_uri": "https://localhost:8080/"
        },
        "id": "ibK_ND69PYzz",
        "outputId": "b64b050b-516f-4850-eb09-40fde1ca246a"
      },
      "execution_count": null,
      "outputs": [
        {
          "output_type": "stream",
          "name": "stdout",
          "text": [
            "tf.Tensor(\n",
            "[[0. 0. 0. 0.]\n",
            " [0. 0. 0. 0.]\n",
            " [0. 0. 0. 0.]], shape=(3, 4), dtype=float32)\n"
          ]
        }
      ]
    },
    {
      "cell_type": "code",
      "source": [
        "# shape : returns a tensor containing the shape of the input tensor\n",
        "'''it's general syntax is\n",
        "\n",
        "  tf.shape(\n",
        "    input,\n",
        "  )\n",
        "\n",
        "'''\n",
        "\n",
        "tensor_exp=tf.constant(\n",
        "    [[1,2,3,3],[5,4,5,6]]\n",
        ")\n",
        "\n",
        "print(tf.shape(tensor_exp))"
      ],
      "metadata": {
        "colab": {
          "base_uri": "https://localhost:8080/"
        },
        "id": "CYp5esHARCMd",
        "outputId": "4f3eb7cf-997a-4bf4-a480-7f8ef5e26b2c"
      },
      "execution_count": null,
      "outputs": [
        {
          "output_type": "stream",
          "name": "stdout",
          "text": [
            "tf.Tensor([2 4], shape=(2,), dtype=int32)\n"
          ]
        }
      ]
    },
    {
      "cell_type": "code",
      "source": [
        "# rank : returns rank of a tensor, actually it returns the shape of the number of starting brackets\n",
        "''' it's general syntax is\n",
        "    tf.rank(\n",
        "      input,\n",
        "      name=none\n",
        "    )\n",
        "\n",
        "'''\n",
        "\n",
        "print(tf.rank(tensor_exp))"
      ],
      "metadata": {
        "colab": {
          "base_uri": "https://localhost:8080/"
        },
        "id": "LqXhBHpTSyEA",
        "outputId": "922f3ae0-f736-404d-ff6c-3a145f489990"
      },
      "execution_count": null,
      "outputs": [
        {
          "output_type": "stream",
          "name": "stdout",
          "text": [
            "tf.Tensor(2, shape=(), dtype=int32)\n"
          ]
        }
      ]
    },
    {
      "cell_type": "code",
      "source": [
        "# size : returns the size of the tensor, it actually returns the number of numbers in the tensors\n",
        "''' it's general syntax is\n",
        "    tf.size(\n",
        "      input,\n",
        "      out_type=tf.dtypes.float32,\n",
        "      name=None\n",
        "    )\n",
        "'''\n",
        "\n",
        "print(tf.size(tensor_exp,out_type=tf.dtypes.float32))"
      ],
      "metadata": {
        "colab": {
          "base_uri": "https://localhost:8080/"
        },
        "id": "c7sMeMptTnET",
        "outputId": "9f085fda-34e2-46f0-f376-15c6ce85a961"
      },
      "execution_count": null,
      "outputs": [
        {
          "output_type": "stream",
          "name": "stdout",
          "text": [
            "tf.Tensor(8.0, shape=(), dtype=float32)\n"
          ]
        }
      ]
    },
    {
      "cell_type": "code",
      "source": [
        "# random.normal : outputs random values from normal distribution\n",
        "''' it's general syntax is\n",
        "    tf.random.normal(\n",
        "      shape,\n",
        "      mean=0.0,\n",
        "      stddev=1.0,\n",
        "      dtype=tf.dtypes.float32,\n",
        "      seed=None,\n",
        "      name=None\n",
        "    )\n",
        "\n",
        "\n",
        "    -->  Higher the value of standard deviation the range of values to appear in the matrix will be high\n",
        "'''\n",
        "\n",
        "random_tensor=tf.random.normal(\n",
        "    [2,3],\n",
        "    mean=50,\n",
        "    stddev=3,\n",
        "    dtype=tf.dtypes.float32,\n",
        "    seed=None, # if we set this argument to any constant number then it will produce the same random number as much as we run this code\n",
        "    name=None\n",
        ")\n",
        "\n",
        "print(random_tensor)"
      ],
      "metadata": {
        "colab": {
          "base_uri": "https://localhost:8080/"
        },
        "id": "9wT5z2aTUuw_",
        "outputId": "b0e87583-cff2-49b4-cfc6-59c19b8f80fa"
      },
      "execution_count": null,
      "outputs": [
        {
          "output_type": "stream",
          "name": "stdout",
          "text": [
            "tf.Tensor(\n",
            "[[52.03656  52.774837 52.52314 ]\n",
            " [50.373238 46.91962  45.721928]], shape=(2, 3), dtype=float32)\n"
          ]
        }
      ]
    },
    {
      "cell_type": "code",
      "source": [
        "# random.uniform : outputs random values from a uniform distribution\n",
        "''' it's general syntax is\n",
        "    tf.ranom.uniform(\n",
        "      shape,\n",
        "      minval=0,\n",
        "      maxval=None, # by default it is considered as one\n",
        "      dtype=tf.dtypes.float32,\n",
        "      seed=None,\n",
        "      name=None\n",
        "\n",
        "    )\n",
        "'''\n",
        "uniform_random_tensor = tf.random.uniform(\n",
        "    [3,4],\n",
        "    minval=2,\n",
        "    maxval=34,  # if we set it to None then by default it is considered as one\n",
        "    dtype=tf.dtypes.int32,\n",
        "    seed=None,\n",
        "    name=None\n",
        ")\n",
        "print(uniform_random_tensor)"
      ],
      "metadata": {
        "colab": {
          "base_uri": "https://localhost:8080/"
        },
        "id": "pZ7WQUr1b2sh",
        "outputId": "fe7d6dd2-c9a9-40a8-a8a4-51fbfe6533ea"
      },
      "execution_count": null,
      "outputs": [
        {
          "output_type": "stream",
          "name": "stdout",
          "text": [
            "tf.Tensor(\n",
            "[[ 3  7  2 33]\n",
            " [ 7  4 15 15]\n",
            " [12 19 21 31]], shape=(3, 4), dtype=int32)\n"
          ]
        }
      ]
    },
    {
      "cell_type": "markdown",
      "source": [
        "## Indexing"
      ],
      "metadata": {
        "id": "I9ot7qvEnQDx"
      }
    },
    {
      "cell_type": "code",
      "source": [
        "indexed_tensor = tf.constant([1,2,3,4,5,6,7,8,9,10,11])\n",
        "print(indexed_tensor)"
      ],
      "metadata": {
        "colab": {
          "base_uri": "https://localhost:8080/"
        },
        "id": "nEjszZt7d1Mv",
        "outputId": "76a19c4a-95eb-4ced-b964-624589534c64"
      },
      "execution_count": null,
      "outputs": [
        {
          "output_type": "stream",
          "name": "stdout",
          "text": [
            "tf.Tensor([ 1  2  3  4  5  6  7  8  9 10 11], shape=(11,), dtype=int32)\n"
          ]
        }
      ]
    },
    {
      "cell_type": "code",
      "source": [
        "# indexing of a 1-d tensor\n",
        "# its syntax is like [start:end:steps]\n",
        "print(indexed_tensor[5])\n",
        "print(indexed_tensor[0:4])\n",
        "print(indexed_tensor[1:4])\n",
        "print(indexed_tensor[0:10:2])"
      ],
      "metadata": {
        "colab": {
          "base_uri": "https://localhost:8080/"
        },
        "id": "XLX5Uv8VKkzN",
        "outputId": "2d606a9b-8be8-43c2-e1bc-400a9f478aa8"
      },
      "execution_count": null,
      "outputs": [
        {
          "output_type": "stream",
          "name": "stdout",
          "text": [
            "tf.Tensor(6, shape=(), dtype=int32)\n",
            "tf.Tensor([1 2 3 4], shape=(4,), dtype=int32)\n",
            "tf.Tensor([2 3 4], shape=(3,), dtype=int32)\n",
            "tf.Tensor([1 3 5 7 9], shape=(5,), dtype=int32)\n"
          ]
        }
      ]
    },
    {
      "cell_type": "code",
      "source": [
        "# indexing of 2-d tensors\n",
        "indexing_2d_tensors = tf.constant(\n",
        "    [[1,2,3],\n",
        "     [4,5,6]]\n",
        ")\n",
        "\n",
        "# its syntax is like [rows : columns]\n",
        "\n",
        "print(indexing_2d_tensors [0:2 , 0:1])\n",
        "print('\\n')\n",
        "print(indexing_2d_tensors [0:2 , 2:] , '\\n')\n",
        "print(indexing_2d_tensors [0:2, 1:2], '\\n')\n",
        "print(indexing_2d_tensors [0:1,0:3], '\\n') #in the ending the column or the row you mention minus one gets print\n",
        "print(indexing_2d_tensors [1,0:3], '\\n')   # we can also use a single number to represent the whole row or the whole column\n",
        "print(indexing_2d_tensors [...,1:2]  , '\\n') #the three dots are also used for selecting all the rows or all the columns"
      ],
      "metadata": {
        "colab": {
          "base_uri": "https://localhost:8080/"
        },
        "id": "sAg8qkdkKtWJ",
        "outputId": "2449555a-865f-4f32-ff5a-02f88d445604"
      },
      "execution_count": null,
      "outputs": [
        {
          "output_type": "stream",
          "name": "stdout",
          "text": [
            "tf.Tensor(\n",
            "[[1]\n",
            " [4]], shape=(2, 1), dtype=int32)\n",
            "\n",
            "\n",
            "tf.Tensor(\n",
            "[[3]\n",
            " [6]], shape=(2, 1), dtype=int32) \n",
            "\n",
            "tf.Tensor(\n",
            "[[2]\n",
            " [5]], shape=(2, 1), dtype=int32) \n",
            "\n",
            "tf.Tensor([[1 2 3]], shape=(1, 3), dtype=int32) \n",
            "\n",
            "tf.Tensor([4 5 6], shape=(3,), dtype=int32) \n",
            "\n",
            "tf.Tensor(\n",
            "[[2]\n",
            " [5]], shape=(2, 1), dtype=int32) \n",
            "\n"
          ]
        }
      ]
    },
    {
      "cell_type": "code",
      "source": [
        "# indexing of the three d tensors\n",
        "\n",
        "indexed_3d_tensor = tf.constant(\n",
        "                    [[[1,2,3],[4,5,6]],\n",
        "                     [[7,8,9],[10,11,12]],\n",
        "                     [[33,23,12],[99,23,45]]]\n",
        ")\n",
        "''' the syntax for indexing three d tensor is like\n",
        "    [matrix_no, row_no, column_no]\n",
        "'''\n",
        "\n",
        "\n",
        "print(indexed_3d_tensor [1,:,:],'\\n\\n')\n",
        "print(indexed_3d_tensor [2,0,0],'\\n\\n') # printing any specific element\n",
        "print(indexed_3d_tensor [1,1,1:3],'\\n\\n')\n",
        "print(indexed_3d_tensor [1:2,1,2])"
      ],
      "metadata": {
        "colab": {
          "base_uri": "https://localhost:8080/"
        },
        "id": "ksS8oLr9M9-a",
        "outputId": "edbf2f41-5df0-409f-ba94-3f0949d5beb6"
      },
      "execution_count": null,
      "outputs": [
        {
          "output_type": "stream",
          "name": "stdout",
          "text": [
            "tf.Tensor(\n",
            "[[ 7  8  9]\n",
            " [10 11 12]], shape=(2, 3), dtype=int32) \n",
            "\n",
            "\n",
            "tf.Tensor(33, shape=(), dtype=int32) \n",
            "\n",
            "\n",
            "tf.Tensor([11 12], shape=(2,), dtype=int32) \n",
            "\n",
            "\n",
            "tf.Tensor([12], shape=(1,), dtype=int32)\n"
          ]
        }
      ]
    },
    {
      "cell_type": "markdown",
      "source": [
        "## Functions of Mathematics"
      ],
      "metadata": {
        "id": "r5db-4vUiCAz"
      }
    },
    {
      "cell_type": "code",
      "source": [
        "# Absolute functions : compute the absolute value of a tensor\n",
        "''' it's general syntax is\n",
        "    tf.math.abs (\n",
        "      x, name=None\n",
        "    )\n",
        "'''\n",
        "\n",
        "abs_tensor = tf.constant(\n",
        "    [[1,-2,3],[-3,-5,5]]\n",
        ")\n",
        "\n",
        "print(tf.math.abs(abs_tensor))"
      ],
      "metadata": {
        "colab": {
          "base_uri": "https://localhost:8080/"
        },
        "id": "kXQO7P1lefX9",
        "outputId": "e44a25d8-c441-4d24-91df-5f70fbdfedd4"
      },
      "execution_count": null,
      "outputs": [
        {
          "output_type": "stream",
          "name": "stdout",
          "text": [
            "tf.Tensor(\n",
            "[[1 2 3]\n",
            " [3 5 5]], shape=(2, 3), dtype=int32)\n"
          ]
        }
      ]
    },
    {
      "cell_type": "code",
      "source": [
        "# Addition function : computes the sum of two tensor element by element\n",
        "''' it's general syntax is\n",
        "    tf.add(tensor_1, tensor_2)'''\n",
        "\n",
        "ten_1=tf.constant([[1,2,3],[4,5,6]])\n",
        "ten_2=tf.constant([[7,8,9],[10,11,12]])\n",
        "print(tf.add(ten_1,ten_2))\n",
        "\n",
        "# it is not necessary that the shapes of the two tensor should be same for addition they can be like one is tensor and the other is just 0-d tensor"
      ],
      "metadata": {
        "colab": {
          "base_uri": "https://localhost:8080/"
        },
        "id": "6vowVmnKi3kh",
        "outputId": "f46cb04c-3b02-486a-a4b3-70b90be8dd81"
      },
      "execution_count": null,
      "outputs": [
        {
          "output_type": "stream",
          "name": "stdout",
          "text": [
            "tf.Tensor(\n",
            "[[4 5 6]\n",
            " [7 8 9]], shape=(2, 3), dtype=int32)\n"
          ]
        }
      ]
    },
    {
      "cell_type": "code",
      "source": [
        "# Multipy function : computes the product of two tensors element by element\n",
        "''' it's general syntax is\n",
        "    tf.multiply(tensor_1, tensor_2)'''\n",
        "\n",
        "ten_1=tf.constant([[1,2,3],[4,5,6]])\n",
        "ten_2=tf.constant([[7,8,9],[10,11,12]])\n",
        "print(tf.multiply(ten_1,ten_2),'\\n\\n')\n",
        "\n",
        "\n",
        "\n",
        "# there is one other scenerio here\n",
        "ten3=tf.constant([1,2,3,4])\n",
        "ten4=tf.constant([[1],[2],[3]])\n",
        "print(tf.multiply(ten3,ten4))"
      ],
      "metadata": {
        "colab": {
          "base_uri": "https://localhost:8080/"
        },
        "id": "Ayi1Ix56kIVk",
        "outputId": "38cea8b3-fcf8-4f82-8d5e-8e39a20a4209"
      },
      "execution_count": null,
      "outputs": [
        {
          "output_type": "stream",
          "name": "stdout",
          "text": [
            "tf.Tensor(\n",
            "[[ 7 16 27]\n",
            " [40 55 72]], shape=(2, 3), dtype=int32) \n",
            "\n",
            "\n",
            "tf.Tensor(\n",
            "[[ 1  2  3  4]\n",
            " [ 2  4  6  8]\n",
            " [ 3  6  9 12]], shape=(3, 4), dtype=int32)\n"
          ]
        }
      ]
    },
    {
      "cell_type": "code",
      "source": [
        "# Subtract function : computes the Subtraction of two tensors element by element\n",
        "''' it's general syntax is\n",
        "    tf.subtract(tensor_1, tensor_2)'''\n",
        "\n",
        "ten_1=tf.constant([[1,2,3],[4,5,6]])\n",
        "ten_2=tf.constant([[7,8,9],[10,11,12]])\n",
        "print(tf.subtract(ten_1,ten_2))"
      ],
      "metadata": {
        "colab": {
          "base_uri": "https://localhost:8080/"
        },
        "id": "GV-uHr_EkhpW",
        "outputId": "e60d13ed-2f09-4bdd-9a7e-aab0fe6a4095"
      },
      "execution_count": null,
      "outputs": [
        {
          "output_type": "stream",
          "name": "stdout",
          "text": [
            "tf.Tensor(\n",
            "[[-6 -6 -6]\n",
            " [-6 -6 -6]], shape=(2, 3), dtype=int32)\n"
          ]
        }
      ]
    },
    {
      "cell_type": "code",
      "source": [
        "# Divide_no_nan function : computes the quotient of two tensors element by element and if the answer is not defined it returns zero\n",
        "''' it's general syntax is\n",
        "    tf.math.divide_no_nan(tensor_1, tensor_2)'''\n",
        "\n",
        "ten_1=tf.constant([[1,2,3],[4,5,6]])\n",
        "ten_2=tf.constant([[7,8,0],[10,11,12]])\n",
        "print(tf.math.divide_no_nan(ten_1,ten_2))"
      ],
      "metadata": {
        "colab": {
          "base_uri": "https://localhost:8080/"
        },
        "id": "g1WEWQcyktmc",
        "outputId": "1c9399b7-344b-42e6-fb7b-b1b58db95236"
      },
      "execution_count": null,
      "outputs": [
        {
          "output_type": "stream",
          "name": "stdout",
          "text": [
            "tf.Tensor(\n",
            "[[0.14285714 0.25       0.        ]\n",
            " [0.4        0.45454545 0.5       ]], shape=(2, 3), dtype=float64)\n"
          ]
        }
      ]
    },
    {
      "cell_type": "code",
      "source": [
        "# Maximum function : compares the two tensors element wise and returns the element of high value\n",
        "''' it's general syntax is\n",
        "    tf.maximum(tensor_1, tensor_2)'''\n",
        "\n",
        "ten_1=tf.constant([[1,2,3],[4,5,6]])\n",
        "ten_2=tf.constant([[7,8,0],[10,11,12]])\n",
        "print(tf.math.maximum(ten_1,ten_2))"
      ],
      "metadata": {
        "colab": {
          "base_uri": "https://localhost:8080/"
        },
        "id": "emWoAMnglAkK",
        "outputId": "d4300205-eab8-48b1-8aac-402136ade424"
      },
      "execution_count": null,
      "outputs": [
        {
          "output_type": "stream",
          "name": "stdout",
          "text": [
            "tf.Tensor(\n",
            "[[ 7  8  3]\n",
            " [10 11 12]], shape=(2, 3), dtype=int32)\n"
          ]
        }
      ]
    },
    {
      "cell_type": "code",
      "source": [
        "# Minimum function : compares the two tensors element wise and returns the element of lowest value\n",
        "''' it's general syntax is\n",
        "    tf.minimum(tensor_1, tensor_2)'''\n",
        "\n",
        "ten_1=tf.constant([[1,2,3],[4,5,6]])\n",
        "ten_2=tf.constant([[7,8,0],[10,11,12]])\n",
        "print(tf.minimum(ten_1,ten_2))"
      ],
      "metadata": {
        "colab": {
          "base_uri": "https://localhost:8080/"
        },
        "id": "Yx2FkCmeojKI",
        "outputId": "0888df60-ed60-4b3a-d22a-09799dedbadf"
      },
      "execution_count": null,
      "outputs": [
        {
          "output_type": "stream",
          "name": "stdout",
          "text": [
            "tf.Tensor(\n",
            "[[1 2 0]\n",
            " [4 5 6]], shape=(2, 3), dtype=int32)\n"
          ]
        }
      ]
    },
    {
      "cell_type": "code",
      "source": [
        "# ArgMax function : Returns the position of the maximum value\n",
        "''' it's general syntax is\n",
        "    tf.argmax(tensor_1)'''\n",
        "\n",
        "ten_1=tf.constant([1,2,3])\n",
        "print(tf.math.argmax(ten_1),'\\n\\n')\n",
        "\n",
        "\n",
        "''' In another scenerio it's general syntax is\n",
        "    tf.argmax(tensor_1,axis=)\n",
        "    Note : axis=0 means column wise and axis=1 means row wise\n",
        "    each number represent the highest value in each  tensor'''\n",
        "\n",
        "\n",
        "ten_1=tf.constant([[1,2,3],[4,5,6]])\n",
        "print(tf.argmax(ten_1,1))"
      ],
      "metadata": {
        "colab": {
          "base_uri": "https://localhost:8080/"
        },
        "id": "K0mJUg55o9qL",
        "outputId": "9c33ae87-9332-438b-c2f1-a50a0cd172c6"
      },
      "execution_count": null,
      "outputs": [
        {
          "output_type": "stream",
          "name": "stdout",
          "text": [
            "tf.Tensor(2, shape=(), dtype=int64) \n",
            "\n",
            "\n",
            "tf.Tensor([2 2], shape=(2,), dtype=int64)\n"
          ]
        }
      ]
    },
    {
      "cell_type": "code",
      "source": [
        "# ArgMin function : Returns the position of the minimum value\n",
        "''' it's general syntax is\n",
        "    tf.argmin(tensor_1)'''\n",
        "\n",
        "ten_1=tf.constant([1,2,3])\n",
        "print(tf.math.argmin(ten_1),'\\n\\n')\n",
        "\n",
        "\n",
        "''' In another scenerio it's general syntax is\n",
        "    tf.argmin(tensor_1,axis=)\n",
        "    Note : axis=0 means column wise and axis=1 means row wise\n",
        "    each number represent the lowest value in each  tensor'''\n",
        "\n",
        "\n",
        "ten_1=tf.constant([[7,2,3],[4,5,6]])\n",
        "print(tf.argmin(ten_1,0))"
      ],
      "metadata": {
        "colab": {
          "base_uri": "https://localhost:8080/"
        },
        "id": "pe3jrFjTp5MV",
        "outputId": "9ee98230-aba5-49b3-da01-9064636b1a19"
      },
      "execution_count": null,
      "outputs": [
        {
          "output_type": "stream",
          "name": "stdout",
          "text": [
            "tf.Tensor(0, shape=(), dtype=int64) \n",
            "\n",
            "\n",
            "tf.Tensor([1 0 0], shape=(3,), dtype=int64)\n"
          ]
        }
      ]
    },
    {
      "cell_type": "code",
      "source": [
        "# Power method : It computes the power of one number in tensor to another\n",
        "''' it's general syntax is\n",
        "    tf.pow(x,y)\n",
        "'''\n",
        "tensor_1 = tf.constant(\n",
        "                     [1,2,3,4]\n",
        ")\n",
        "tensor_2 = tf.constant(\n",
        "                      [5,6,7,8]\n",
        ")\n",
        "print(tf.pow(tensor_1,tensor_2),'\\n\\n\\n')\n",
        "\n",
        "\n",
        "\n",
        "\n",
        "\n",
        "# for two dimensional tensors\n",
        "tensor_3 = tf.constant([[1,2,3],[4,5,6]])\n",
        "tensor_4 = tf.constant([[7,8,9],[10,11,12]])\n",
        "\n",
        "print(tf.pow(tensor_4,tensor_3))"
      ],
      "metadata": {
        "colab": {
          "base_uri": "https://localhost:8080/"
        },
        "id": "Ux_FesrEsAqV",
        "outputId": "5b34e83c-d37d-4937-bdfc-4288755235b3"
      },
      "execution_count": null,
      "outputs": [
        {
          "output_type": "stream",
          "name": "stdout",
          "text": [
            "tf.Tensor([    1    64  2187 65536], shape=(4,), dtype=int32) \n",
            "\n",
            "\n",
            "\n",
            "tf.Tensor(\n",
            "[[      7      64     729]\n",
            " [  10000  161051 2985984]], shape=(2, 3), dtype=int32)\n"
          ]
        }
      ]
    },
    {
      "cell_type": "code",
      "source": [
        "# Reduce sum Method : computes the sum of elements accross the dimensions of a tensor\n",
        "''' It's general syntax is\n",
        "    tf.reduce_sum(input_tensor, axis=0, keepdims=false, name=None)\n",
        "'''\n",
        "\n",
        "\n",
        "print(tf.reduce_sum(tensor_3, axis=None, keepdims=False, name=None), '\\n\\n\\n') # if we don't mention the axis it will add up all the elements in the tensor\n",
        "print(tf.reduce_sum(tensor_3, axis=0, keepdims=False, name=None), '\\n\\n\\n') # column wise sum\n",
        "print(tf.reduce_sum(tensor_3, axis=1, keepdims=False, name=None), '\\n\\n\\n') # row wise sum\n",
        "\n"
      ],
      "metadata": {
        "colab": {
          "base_uri": "https://localhost:8080/"
        },
        "id": "9Cs230y3Rp5U",
        "outputId": "199d9d6f-accb-47e2-ddc9-cfc8020be585"
      },
      "execution_count": null,
      "outputs": [
        {
          "output_type": "stream",
          "name": "stdout",
          "text": [
            "tf.Tensor(21, shape=(), dtype=int32) \n",
            "\n",
            "\n",
            "\n",
            "tf.Tensor([5 7 9], shape=(3,), dtype=int32) \n",
            "\n",
            "\n",
            "\n",
            "tf.Tensor([ 6 15], shape=(2,), dtype=int32) \n",
            "\n",
            "\n",
            "\n"
          ]
        }
      ]
    },
    {
      "cell_type": "code",
      "source": [
        "# Reduce max Method : returns maximum of elements accross the dimensions of a tensor\n",
        "''' It's general syntax is\n",
        "    tf.reduce_max(input_tensor, axis=0, keepdims=false, name=None)\n",
        "'''\n",
        "\n",
        "\n",
        "print(tf.reduce_max(tensor_3, axis=None, keepdims=False, name=None), '\\n\\n\\n') # if we don't mention the axis it will search up all the elements in the tensor and return maximum\n",
        "print(tf.reduce_max(tensor_3, axis=0, keepdims=False, name=None), '\\n\\n\\n') # column wise maximum\n",
        "print(tf.reduce_max(tensor_3, axis=1, keepdims=False, name=None), '\\n\\n\\n') # row wise maximum\n",
        "\n"
      ],
      "metadata": {
        "colab": {
          "base_uri": "https://localhost:8080/"
        },
        "id": "wK77s8T8T-r2",
        "outputId": "ed5cbec2-6873-42a0-8140-d530b945c2e8"
      },
      "execution_count": null,
      "outputs": [
        {
          "output_type": "stream",
          "name": "stdout",
          "text": [
            "tf.Tensor(6, shape=(), dtype=int32) \n",
            "\n",
            "\n",
            "\n",
            "tf.Tensor([4 5 6], shape=(3,), dtype=int32) \n",
            "\n",
            "\n",
            "\n",
            "tf.Tensor([3 6], shape=(2,), dtype=int32) \n",
            "\n",
            "\n",
            "\n"
          ]
        }
      ]
    },
    {
      "cell_type": "code",
      "source": [
        "# Reduce mean Method : computes the mean of elements accross the dimensions of a tensor\n",
        "''' It's general syntax is\n",
        "    tf.reduce_mean(input_tensor, axis=0, keepdims=false, name=None)\n",
        "'''\n",
        "\n",
        "\n",
        "print(tf.reduce_mean(tensor_3, axis=None, keepdims=False, name=None), '\\n\\n\\n') # if we don't mention the axis it will calculate the mean of all the elements in the tensor\n",
        "print(tf.reduce_mean(tensor_3, axis=0, keepdims=False, name=None), '\\n\\n\\n') # column wise mean\n",
        "print(tf.reduce_mean(tensor_3, axis=1, keepdims=False, name=None), '\\n\\n\\n') # row wise mean\n",
        "\n"
      ],
      "metadata": {
        "colab": {
          "base_uri": "https://localhost:8080/"
        },
        "id": "Gukw7_m8VZDa",
        "outputId": "cab84eae-ad83-40ed-ed84-e2e98fa84333"
      },
      "execution_count": null,
      "outputs": [
        {
          "output_type": "stream",
          "name": "stdout",
          "text": [
            "tf.Tensor(3, shape=(), dtype=int32) \n",
            "\n",
            "\n",
            "\n",
            "tf.Tensor([2 3 4], shape=(3,), dtype=int32) \n",
            "\n",
            "\n",
            "\n",
            "tf.Tensor([2 5], shape=(2,), dtype=int32) \n",
            "\n",
            "\n",
            "\n"
          ]
        }
      ]
    },
    {
      "cell_type": "code",
      "source": [
        "''' we have other functions which all work the same way like\n",
        "    reduce_min()\n",
        "    reduce_std()\n",
        "    reduce_prod()\n",
        "    reduce_variance()\n",
        "    reduce_eucladian_norm()\n",
        "'''"
      ],
      "metadata": {
        "id": "O0Hs4M6eV5hV"
      },
      "execution_count": null,
      "outputs": []
    },
    {
      "cell_type": "code",
      "source": [
        "# sigmoid function : computes the sigmoid of x element wise\n",
        "''' it's general syntax is\n",
        "    tf.sigmoid(x,name=None)\n",
        "\n",
        "    mathematically --> sigmoid(x)=1/(1+exp(-x))\n",
        "'''\n",
        "\n",
        "print(tf.sigmoid(tf.constant([1,2,3],dtype=tf.float32)))"
      ],
      "metadata": {
        "colab": {
          "base_uri": "https://localhost:8080/"
        },
        "id": "4kDK3jXLWwIi",
        "outputId": "ac5fd01c-7b94-4fa9-8346-2c7752d24363"
      },
      "execution_count": null,
      "outputs": [
        {
          "output_type": "stream",
          "name": "stdout",
          "text": [
            "tf.Tensor([0.73105854 0.880797   0.95257413], shape=(3,), dtype=float32)\n"
          ]
        }
      ]
    },
    {
      "cell_type": "code",
      "source": [
        "# Top_k function : it will return the position of the top value from tensor\n",
        "''' it's general syntax is\n",
        "    tf.top_k(input, k=1, sorted=True, name=None)\n",
        "'''\n",
        "\n",
        "print(tf.math.top_k(tf.constant([1,9,2,3,8]),k=2, sorted=True)) # the argument k represents the number of top values to be returned"
      ],
      "metadata": {
        "colab": {
          "base_uri": "https://localhost:8080/"
        },
        "id": "uY0ZARRcXnFf",
        "outputId": "e020fe69-c44a-4727-b421-d5bdcef6bf7c"
      },
      "execution_count": null,
      "outputs": [
        {
          "output_type": "stream",
          "name": "stdout",
          "text": [
            "TopKV2(values=<tf.Tensor: shape=(2,), dtype=int32, numpy=array([9, 8], dtype=int32)>, indices=<tf.Tensor: shape=(2,), dtype=int32, numpy=array([1, 4], dtype=int32)>)\n"
          ]
        }
      ]
    },
    {
      "cell_type": "markdown",
      "source": [
        "## Linear Algebra Operations"
      ],
      "metadata": {
        "id": "5VzKlc7npIVD"
      }
    },
    {
      "cell_type": "markdown",
      "source": [],
      "metadata": {
        "id": "GCgrGi8dpH9Z"
      }
    },
    {
      "cell_type": "code",
      "source": [
        "# Matrix Multiplication : it does the real matrix multiplication\n",
        "''' The general syntax for matrix multiplication is\n",
        "    tf.linalg.matmul(\n",
        "      a,b,transpose_a=false,transpose_b=false,adjoint_a=false,adjoint_b=false,\n",
        "      a_is_sparse=false,b_is_sparse=false,output_type=none,name=None\n",
        "    )\n",
        "\n",
        "'''\n",
        "\n",
        "a=tf.constant([[1,2,3],[4,5,6]])\n",
        "b=tf.constant([[7,8],[4,9],[11,12]])\n",
        "print(tf.linalg.matmul(\n",
        "      a,b,transpose_a=False,transpose_b=False,adjoint_a=False,adjoint_b=False, # if we want to multiply matrix with trnspose of other then me set them to true\n",
        "      a_is_sparse=False,b_is_sparse=False,output_type=None,name=None           # sparse tensor means the most element in the tensors are zero, so if we specify it we tell the compiler that a sparse tensor is coming so it takes care accordingly\n",
        "      ))\n",
        "\n",
        "print('\\n\\n\\n')\n",
        "# short cut for matrix multiplication\n",
        "print(a@b)"
      ],
      "metadata": {
        "colab": {
          "base_uri": "https://localhost:8080/"
        },
        "id": "Vj6QiQkfYQI3",
        "outputId": "8bcf1634-0a68-4d14-8aac-eb6dd3bff7c3"
      },
      "execution_count": null,
      "outputs": [
        {
          "output_type": "stream",
          "name": "stdout",
          "text": [
            "tf.Tensor(\n",
            "[[ 48  62]\n",
            " [114 149]], shape=(2, 2), dtype=int32)\n",
            "\n",
            "\n",
            "\n",
            "\n",
            "tf.Tensor(\n",
            "[[ 48  62]\n",
            " [114 149]], shape=(2, 2), dtype=int32)\n"
          ]
        }
      ]
    },
    {
      "cell_type": "code",
      "source": [
        "# Matrix Transpose : Rows are converted to columns and columns are converted to rows\n",
        "print(tf.transpose(a))"
      ],
      "metadata": {
        "colab": {
          "base_uri": "https://localhost:8080/"
        },
        "id": "wHG2RJyzqo76",
        "outputId": "72e9965c-5190-4622-d07d-fa9409a85d2d"
      },
      "execution_count": null,
      "outputs": [
        {
          "output_type": "stream",
          "name": "stdout",
          "text": [
            "tf.Tensor(\n",
            "[[1 4]\n",
            " [2 5]\n",
            " [3 6]], shape=(3, 2), dtype=int32)\n"
          ]
        }
      ]
    },
    {
      "cell_type": "code",
      "source": [
        "# Matrix multiplication for 3-d tensors\n",
        "import tensorflow as tf\n",
        "mat_1=tf.constant(\n",
        "                  [\n",
        "                    [[1,2],\n",
        "                    [3,4]],\n",
        "                   [[5,6],\n",
        "                    [7,8]]\n",
        "                  ]\n",
        ")\n",
        "\n",
        "mat_2=tf.constant(\n",
        "                  [[[2,5,4],\n",
        "                    [6,9,2]],\n",
        "                   [[7,4,1],\n",
        "                    [6,9,9]]]\n",
        ")\n",
        "\n",
        "product_tensor=tf.linalg.matmul(mat_1,mat_2)\n",
        "print(product_tensor)\n",
        "\n",
        "\n",
        "''' The multiplication of matrices with more the two dimension are done batch wise mean the first batch in the matrix 1 is multiplied with the\n",
        "  first batch of matrix 2 and so on'''"
      ],
      "metadata": {
        "colab": {
          "base_uri": "https://localhost:8080/"
        },
        "id": "Wbn_y8wfsLZ1",
        "outputId": "869212ee-668a-4b80-f9c5-cbbbdb602f56"
      },
      "execution_count": null,
      "outputs": [
        {
          "output_type": "stream",
          "name": "stdout",
          "text": [
            "tf.Tensor(\n",
            "[[[ 14  23   8]\n",
            "  [ 30  51  20]]\n",
            "\n",
            " [[ 71  74  59]\n",
            "  [ 97 100  79]]], shape=(2, 2, 3), dtype=int32)\n"
          ]
        }
      ]
    },
    {
      "cell_type": "code",
      "source": [
        "# Band part method :\n",
        "''' it's general syntax is\n",
        "tf.linalg.band_part(input, num_lower, num_upper, name=None)\n",
        "'''\n",
        "\n",
        "print(tf.linalg.band_part(mat_1,0,0))"
      ],
      "metadata": {
        "colab": {
          "base_uri": "https://localhost:8080/"
        },
        "id": "p80lOVZFsNGD",
        "outputId": "2967162c-081e-471e-83c9-ca7a950c9da8"
      },
      "execution_count": null,
      "outputs": [
        {
          "output_type": "stream",
          "name": "stdout",
          "text": [
            "tf.Tensor(\n",
            "[[[1 0]\n",
            "  [0 4]]\n",
            "\n",
            " [[5 0]\n",
            "  [0 8]]], shape=(2, 2, 2), dtype=int32)\n"
          ]
        }
      ]
    },
    {
      "cell_type": "code",
      "source": [
        "# Cholesky method : computes the cholesky decomposition of one or more square matrices\n",
        "''' it's general syntax is\n",
        "    tf.linalg.cholesky ( input, name=None)\n",
        "\n",
        "    --> condition for it is the A = A^t then cholesky decomposition can be applied\n",
        "    A = L*L^t\n",
        "\n",
        "'''\n",
        "\n",
        "tens_1=tf.constant([[3,4],[5,6]],dtype=tf.float32)\n",
        "print(tf.linalg.cholesky(tens_1))"
      ],
      "metadata": {
        "id": "vCVhU8EHwBOi",
        "colab": {
          "base_uri": "https://localhost:8080/"
        },
        "outputId": "eadbd023-304c-43d9-8495-bc5726d6c11c"
      },
      "execution_count": null,
      "outputs": [
        {
          "output_type": "stream",
          "name": "stdout",
          "text": [
            "tf.Tensor(\n",
            "[[nan  0.]\n",
            " [nan nan]], shape=(2, 2), dtype=float32)\n"
          ]
        }
      ]
    },
    {
      "cell_type": "code",
      "source": [
        "# Cross product : computes the pair wise cross product\n",
        "''' it's general syntax is\n",
        "    tf.linalg.cross(a,b,name=None)\n",
        "\n",
        "'''\n",
        "tens_1=tf.constant([[[3,4,5],[2,5,6]],[[4,7,8],[5,1,9]]])\n",
        "tens_2=tf.constant([[[1,1,2],[3,9,7]],[[9,3,4],[2,3,5]]])\n",
        "print(tf.linalg.cross(tens_1,tens_2))"
      ],
      "metadata": {
        "colab": {
          "base_uri": "https://localhost:8080/"
        },
        "id": "Q6D9yDYHpxie",
        "outputId": "01325efb-fa9f-484a-d3b6-0ee3958933e0"
      },
      "execution_count": null,
      "outputs": [
        {
          "output_type": "stream",
          "name": "stdout",
          "text": [
            "tf.Tensor(\n",
            "[[[  3  -1  -1]\n",
            "  [-19   4   3]]\n",
            "\n",
            " [[  4  56 -51]\n",
            "  [-22  -7  13]]], shape=(2, 2, 3), dtype=int32)\n"
          ]
        }
      ]
    },
    {
      "cell_type": "code",
      "source": [
        "# Inverse of tensor : the number of rows should be equal to the number of columns\n",
        "''' it's general syntax is\n",
        "    tf.linalg.inv(input)\n",
        "'''\n",
        "\n",
        "tens_3=tf.constant([[1,2],[3,4]],dtype=tf.float32)\n",
        "tens_3_inv=tf.linalg.inv(tens_3)\n",
        "print(tens_3_inv)\n",
        "\n",
        "\n",
        "print('\\n\\n\\n')\n",
        "# when you multiply a matrix with its inverse you should obatin an identity matrix\n",
        "print(tens_3@tens_3_inv)"
      ],
      "metadata": {
        "colab": {
          "base_uri": "https://localhost:8080/"
        },
        "id": "IQ8fShfiqhra",
        "outputId": "a0b681b9-a15d-43c2-cda7-c54295a503ce"
      },
      "execution_count": null,
      "outputs": [
        {
          "output_type": "stream",
          "name": "stdout",
          "text": [
            "tf.Tensor(\n",
            "[[-2.   1. ]\n",
            " [ 1.5 -0.5]], shape=(2, 2), dtype=float32)\n",
            "\n",
            "\n",
            "\n",
            "\n",
            "tf.Tensor(\n",
            "[[1. 0.]\n",
            " [0. 1.]], shape=(2, 2), dtype=float32)\n"
          ]
        }
      ]
    },
    {
      "cell_type": "code",
      "source": [
        "# Einsum method : this method performs operation according to the given input arguments and its numpy method\n",
        "''' it's general syntax is\n",
        "    np.einsum('ij,ij->ij,',A,B) # A and B are two metrices, ij,ij->ij is any operation (here element wise multiplication)\n",
        "'''\n",
        "\n",
        "import numpy as np\n",
        "\n",
        "A = np.array([[1,2,3],[4,5,6],[7,8,9]])\n",
        "B = np.array([[2,6,7,1],[3,9,8,1],[5,5,6,9]])\n",
        "\n",
        "print(A.shape, B.shape)\n"
      ],
      "metadata": {
        "colab": {
          "base_uri": "https://localhost:8080/"
        },
        "id": "WJMOTmrQtFib",
        "outputId": "be03e317-30c9-44b8-d615-53cf0af832a8"
      },
      "execution_count": null,
      "outputs": [
        {
          "output_type": "stream",
          "name": "stdout",
          "text": [
            "(3, 3) (3, 4)\n"
          ]
        }
      ]
    },
    {
      "cell_type": "code",
      "source": [
        "# Now for matrix multiplication\n",
        "print(np.einsum('ij,jk->ik',A,B))\n",
        "\n",
        "# can also be done using matmal\n",
        "print('\\n\\n\\n')\n",
        "print(np.matmul(A,B))"
      ],
      "metadata": {
        "colab": {
          "base_uri": "https://localhost:8080/"
        },
        "id": "U5yu--NK7xC_",
        "outputId": "fe841318-7f0f-43e7-9ec7-5cea8e2bda17"
      },
      "execution_count": null,
      "outputs": [
        {
          "output_type": "stream",
          "name": "stdout",
          "text": [
            "[[ 23  39  41  30]\n",
            " [ 53  99 104  63]\n",
            " [ 83 159 167  96]]\n",
            "\n",
            "\n",
            "\n",
            "\n",
            "[[ 23  39  41  30]\n",
            " [ 53  99 104  63]\n",
            " [ 83 159 167  96]]\n"
          ]
        }
      ]
    },
    {
      "cell_type": "code",
      "source": [
        "# For element wise multiplication\n",
        "c=np.array([[1,2,3],[4,5,6],[7,8,9]])\n",
        "print(np.einsum('ij,ij->ij',A,c))\n",
        "\n",
        "\n",
        "# it can also be done simply\n",
        "print('\\n\\n\\n',A*c)"
      ],
      "metadata": {
        "colab": {
          "base_uri": "https://localhost:8080/"
        },
        "id": "Hu9k7qR3Ar8-",
        "outputId": "788c3030-dcf6-48d3-ffa8-7f5566c121d6"
      },
      "execution_count": null,
      "outputs": [
        {
          "output_type": "stream",
          "name": "stdout",
          "text": [
            "[[ 1  4  9]\n",
            " [16 25 36]\n",
            " [49 64 81]]\n",
            "\n",
            "\n",
            "\n",
            " [[ 1  4  9]\n",
            " [16 25 36]\n",
            " [49 64 81]]\n"
          ]
        }
      ]
    },
    {
      "cell_type": "code",
      "source": [
        "# For matrix transpose\n",
        "print(np.einsum('ij->ji',A))"
      ],
      "metadata": {
        "colab": {
          "base_uri": "https://localhost:8080/"
        },
        "id": "YLEqiC4DCXi9",
        "outputId": "47ad4f35-e045-4641-ab3b-b3da2146796e"
      },
      "execution_count": null,
      "outputs": [
        {
          "output_type": "stream",
          "name": "stdout",
          "text": [
            "[[1 4 7]\n",
            " [2 5 8]\n",
            " [3 6 9]]\n"
          ]
        }
      ]
    },
    {
      "cell_type": "code",
      "source": [
        "# eisnum operator is used to solve very complex operations\n",
        "import numpy as np\n",
        "q = np.random.randn(32,64,512)\n",
        "k = np.random.randn(32,128,512)\n",
        "\n",
        "# the b in bqm means the batch means number of matrices, q and k means rows and m means columns\n",
        "\n",
        "print(np.einsum('bqm, bkm ->bqk',q,k).shape)"
      ],
      "metadata": {
        "colab": {
          "base_uri": "https://localhost:8080/"
        },
        "id": "rKaUXM2tC7ZV",
        "outputId": "03293a0a-8f29-406a-cecb-84eb171757c3"
      },
      "execution_count": 2,
      "outputs": [
        {
          "output_type": "stream",
          "name": "stdout",
          "text": [
            "(32, 64, 128)\n"
          ]
        }
      ]
    },
    {
      "cell_type": "markdown",
      "source": [
        "## Common Tensorflow functions\n"
      ],
      "metadata": {
        "id": "L3VLeJBKQJz2"
      }
    },
    {
      "cell_type": "code",
      "source": [
        "# Expand dimensions method : Returns a tensor with a length 1 axis inserted at index axis or adds extra axis to input tensor\n",
        "''' it's general syntax is\n",
        "    tf.expand_dims(input, axis, name=None)\n",
        "'''\n",
        "tens = tf.constant([[1,2,3],[4,5,6]])\n",
        "print(tens)\n",
        "print('\\n\\n\\n')\n",
        "print(tf.expand_dims(tens, axis=1 ))\n",
        "print('\\n\\n\\n')\n",
        "print(tf.expand_dims(tens, axis=2 ))"
      ],
      "metadata": {
        "id": "X_d440i2CIvj",
        "colab": {
          "base_uri": "https://localhost:8080/"
        },
        "outputId": "f0fee957-720d-4be9-b591-b84af7a91107"
      },
      "execution_count": 13,
      "outputs": [
        {
          "output_type": "stream",
          "name": "stdout",
          "text": [
            "tf.Tensor(\n",
            "[[1 2 3]\n",
            " [4 5 6]], shape=(2, 3), dtype=int32)\n",
            "\n",
            "\n",
            "\n",
            "\n",
            "tf.Tensor(\n",
            "[[[1 2 3]]\n",
            "\n",
            " [[4 5 6]]], shape=(2, 1, 3), dtype=int32)\n",
            "\n",
            "\n",
            "\n",
            "\n",
            "tf.Tensor(\n",
            "[[[1]\n",
            "  [2]\n",
            "  [3]]\n",
            "\n",
            " [[4]\n",
            "  [5]\n",
            "  [6]]], shape=(2, 3, 1), dtype=int32)\n"
          ]
        }
      ]
    },
    {
      "cell_type": "code",
      "source": [
        "# Squeeze Method : Removes dimensions of size 1 from shape of tensor\n",
        "''' the general syntax of squeeze method is\n",
        "    tf.squeeze(input, axis=None, name=None)\n",
        "'''\n",
        "tens=tf.constant([[[1,2,3],[4,5,6]]])\n",
        "print(tens.shape)\n",
        "tens_squeezed = tf.squeeze(tens, axis=0)\n",
        "print(tens_squeezed.shape)"
      ],
      "metadata": {
        "colab": {
          "base_uri": "https://localhost:8080/"
        },
        "id": "2OFcQBRZRTkJ",
        "outputId": "5cef1172-7282-4265-ddd1-1109bc4b4b5d"
      },
      "execution_count": 27,
      "outputs": [
        {
          "output_type": "stream",
          "name": "stdout",
          "text": [
            "(1, 2, 3)\n",
            "(2, 3)\n"
          ]
        }
      ]
    },
    {
      "cell_type": "code",
      "source": [
        "# Reshape Method : it reshapes a tensor\n",
        "''' the general syntax for reshape method is\n",
        "    tf.reshape(tensor, shape, name=None)\n",
        "'''\n",
        "tens=tf.constant([[[1,2,3],[4,5,6]],[[5,2,4],[9,8,1]]])\n",
        "tenso=tf.constant([[1,2,3,4],[5,6,7,8]])\n",
        "reshape_tens=tf.reshape(tenso, [4,2] )\n",
        "reshape_tenso=tf.reshape(tens,[4,3])\n",
        "print(reshape_tens)\n",
        "print('\\n\\n\\n',reshape_tenso)\n",
        "\n",
        "# the simple rule is that just count the number of elements and then divide according to its multiple"
      ],
      "metadata": {
        "colab": {
          "base_uri": "https://localhost:8080/"
        },
        "id": "XRa461gvVp9x",
        "outputId": "9cac6b19-66a3-458b-d931-2266fa82d642"
      },
      "execution_count": 34,
      "outputs": [
        {
          "output_type": "stream",
          "name": "stdout",
          "text": [
            "tf.Tensor(\n",
            "[[1 2]\n",
            " [3 4]\n",
            " [5 6]\n",
            " [7 8]], shape=(4, 2), dtype=int32)\n",
            "\n",
            "\n",
            "\n",
            " tf.Tensor(\n",
            "[[1 2 3]\n",
            " [4 5 6]\n",
            " [5 2 4]\n",
            " [9 8 1]], shape=(4, 3), dtype=int32)\n"
          ]
        }
      ]
    },
    {
      "cell_type": "code",
      "source": [],
      "metadata": {
        "id": "NH0MiqAghz-w"
      },
      "execution_count": null,
      "outputs": []
    }
  ]
}